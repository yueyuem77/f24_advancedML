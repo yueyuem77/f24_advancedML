{
 "cells": [
  {
   "cell_type": "code",
   "execution_count": 1,
   "metadata": {
    "id": "qecTR8_jAH9Z"
   },
   "outputs": [],
   "source": [
    "# Install tensorflow and keras libraries first.  Code in command prompt:\n",
    "##     conda install -c conda-forge tensorflow keras\n",
    "\n",
    "import numpy as np\n",
    "from tensorflow.keras.models import Sequential\n",
    "\n",
    "# The core data structure of Keras is a model, a way to organize layers.\n",
    "\n",
    "model = Sequential() # Define the architecture of you model using Sequential.\n",
    "\n"
   ]
  },
  {
   "cell_type": "code",
   "execution_count": 2,
   "metadata": {
    "id": "ZJO44sCCAH9f"
   },
   "outputs": [
    {
     "name": "stdout",
     "output_type": "stream",
     "text": [
      "Model: \"sequential_1\"\n",
      "_________________________________________________________________\n",
      " Layer (type)                Output Shape              Param #   \n",
      "=================================================================\n",
      " dense (Dense)               (None, 32)                25120     \n",
      "                                                                 \n",
      " activation (Activation)     (None, 32)                0         \n",
      "                                                                 \n",
      " dense_1 (Dense)             (None, 32)                1056      \n",
      "                                                                 \n",
      " activation_1 (Activation)   (None, 32)                0         \n",
      "                                                                 \n",
      " dense_2 (Dense)             (None, 3)                 99        \n",
      "                                                                 \n",
      " activation_2 (Activation)   (None, 3)                 0         \n",
      "                                                                 \n",
      "=================================================================\n",
      "Total params: 26275 (102.64 KB)\n",
      "Trainable params: 26275 (102.64 KB)\n",
      "Non-trainable params: 0 (0.00 Byte)\n",
      "_________________________________________________________________\n"
     ]
    }
   ],
   "source": [
    "#Build layers with Dense, followed by Activation()...\n",
    "\n",
    "from tensorflow.keras.models import Sequential\n",
    "from tensorflow.keras.layers import Dense, Activation\n",
    "\n",
    "# two hidden layers with 32 nodes\n",
    "# Activation is set to relu\n",
    "# one output layer with 10 categories.\n",
    "# softmax function used to calculate 0 to 1 probabilities for each of 10 categories\n",
    "\n",
    "model = Sequential([\n",
    "    Dense(32, input_shape=(784,)),\n",
    "    Activation('relu'),\n",
    "    Dense(32),\n",
    "    Activation('relu'),\n",
    "    Dense(3),\n",
    "    Activation('softmax'),\n",
    "])\n",
    "\n",
    "model.summary()\n"
   ]
  },
  {
   "cell_type": "code",
   "execution_count": 3,
   "metadata": {
    "id": "JYWdU1yOAH9i"
   },
   "outputs": [
    {
     "name": "stdout",
     "output_type": "stream",
     "text": [
      "Model: \"sequential_2\"\n",
      "_________________________________________________________________\n",
      " Layer (type)                Output Shape              Param #   \n",
      "=================================================================\n",
      " dense_3 (Dense)             (None, 32)                25120     \n",
      "                                                                 \n",
      " activation_3 (Activation)   (None, 32)                0         \n",
      "                                                                 \n",
      " dense_4 (Dense)             (None, 32)                1056      \n",
      "                                                                 \n",
      " activation_4 (Activation)   (None, 32)                0         \n",
      "                                                                 \n",
      " dense_5 (Dense)             (None, 32)                1056      \n",
      "                                                                 \n",
      " activation_5 (Activation)   (None, 32)                0         \n",
      "                                                                 \n",
      " dense_6 (Dense)             (None, 10)                330       \n",
      "                                                                 \n",
      " activation_6 (Activation)   (None, 10)                0         \n",
      "                                                                 \n",
      "=================================================================\n",
      "Total params: 27562 (107.66 KB)\n",
      "Trainable params: 27562 (107.66 KB)\n",
      "Non-trainable params: 0 (0.00 Byte)\n",
      "_________________________________________________________________\n"
     ]
    }
   ],
   "source": [
    "# model with three hidden layers\n",
    "\n",
    "model = Sequential([\n",
    "    Dense(32, input_shape=(784,)),\n",
    "    Activation('relu'),\n",
    "    Dense(32),\n",
    "    Activation('relu'),\n",
    "    Dense(32),\n",
    "    Activation('relu'),\n",
    "    Dense(10),\n",
    "    Activation('softmax'),\n",
    "])\n",
    "\n",
    "\n",
    "model.summary()\n"
   ]
  },
  {
   "cell_type": "code",
   "execution_count": 4,
   "metadata": {
    "id": "LBixh7ZeAH9k"
   },
   "outputs": [
    {
     "name": "stdout",
     "output_type": "stream",
     "text": [
      "Model: \"sequential_3\"\n",
      "_________________________________________________________________\n",
      " Layer (type)                Output Shape              Param #   \n",
      "=================================================================\n",
      " dense_7 (Dense)             (None, 64)                50240     \n",
      "                                                                 \n",
      " dense_8 (Dense)             (None, 64)                4160      \n",
      "                                                                 \n",
      " dense_9 (Dense)             (None, 10)                650       \n",
      "                                                                 \n",
      "=================================================================\n",
      "Total params: 55050 (215.04 KB)\n",
      "Trainable params: 55050 (215.04 KB)\n",
      "Non-trainable params: 0 (0.00 Byte)\n",
      "_________________________________________________________________\n"
     ]
    }
   ],
   "source": [
    "#Or build a model in steps using .add():\n",
    "\n",
    "from tensorflow.keras.layers import Dense\n",
    "\n",
    "model = Sequential()\n",
    "model.add(Dense(units=64, activation='relu', input_dim=784))\n",
    "model.add(Dense(units=64, activation='relu'))\n",
    "model.add(Dense(units=10))\n",
    "\n",
    "model.summary()\n"
   ]
  },
  {
   "cell_type": "code",
   "execution_count": 5,
   "metadata": {
    "id": "SXucdUgJAH9n"
   },
   "outputs": [],
   "source": [
    "# Once your model looks good, configure its learning process with .compile():\n",
    "\n",
    "model.compile(loss='categorical_crossentropy',\n",
    "              optimizer='sgd',\n",
    "              metrics=['accuracy'])\n",
    "\n"
   ]
  },
  {
   "cell_type": "markdown",
   "metadata": {
    "id": "_S2EiUcAAH9p"
   },
   "source": [
    "**loss can be set to:**\n",
    "    - 'categorical_crossentropy' for multiple categories\n",
    "    - 'binary_crossentropy' for binary categories\n",
    "    - 'mse' for regression, which calculates the mse"
   ]
  },
  {
   "cell_type": "markdown",
   "metadata": {
    "id": "4YYoImfwAH9p"
   },
   "source": [
    "**optimizer can be set to 'sgd' for stochastic gradient descent or a variety of other techniques.**"
   ]
  },
  {
   "cell_type": "markdown",
   "metadata": {
    "id": "HSGiGFwfAH9q"
   },
   "source": [
    "## Training a keras model\n",
    "\n",
    "Keras models are trained on Numpy arrays of input data and labels. For training a model, you will typically use the  fit function."
   ]
  },
  {
   "cell_type": "code",
   "execution_count": 6,
   "metadata": {
    "id": "M4zJrGrjAH9q"
   },
   "outputs": [
    {
     "name": "stdout",
     "output_type": "stream",
     "text": [
      "Epoch 1/10\n",
      "25/25 [==============================] - 0s 2ms/step - loss: 0.7065 - accuracy: 0.4888 - val_loss: 0.6912 - val_accuracy: 0.5400\n",
      "Epoch 2/10\n",
      "25/25 [==============================] - 0s 635us/step - loss: 0.7046 - accuracy: 0.5000 - val_loss: 0.6907 - val_accuracy: 0.5400\n",
      "Epoch 3/10\n",
      "25/25 [==============================] - 0s 712us/step - loss: 0.7023 - accuracy: 0.5000 - val_loss: 0.6906 - val_accuracy: 0.5300\n",
      "Epoch 4/10\n",
      "25/25 [==============================] - 0s 663us/step - loss: 0.7012 - accuracy: 0.5088 - val_loss: 0.6906 - val_accuracy: 0.5250\n",
      "Epoch 5/10\n",
      "25/25 [==============================] - 0s 647us/step - loss: 0.6999 - accuracy: 0.4938 - val_loss: 0.6913 - val_accuracy: 0.5350\n",
      "Epoch 6/10\n",
      "25/25 [==============================] - 0s 638us/step - loss: 0.6990 - accuracy: 0.5063 - val_loss: 0.6903 - val_accuracy: 0.5250\n",
      "Epoch 7/10\n",
      "25/25 [==============================] - 0s 647us/step - loss: 0.6980 - accuracy: 0.5038 - val_loss: 0.6903 - val_accuracy: 0.5150\n",
      "Epoch 8/10\n",
      "25/25 [==============================] - 0s 633us/step - loss: 0.6974 - accuracy: 0.5100 - val_loss: 0.6901 - val_accuracy: 0.5200\n",
      "Epoch 9/10\n",
      "25/25 [==============================] - 0s 654us/step - loss: 0.6964 - accuracy: 0.5038 - val_loss: 0.6905 - val_accuracy: 0.5250\n",
      "Epoch 10/10\n",
      "25/25 [==============================] - 0s 647us/step - loss: 0.6957 - accuracy: 0.5038 - val_loss: 0.6904 - val_accuracy: 0.5050\n"
     ]
    },
    {
     "data": {
      "text/plain": [
       "<keras.src.callbacks.History at 0x16adbdad0>"
      ]
     },
     "execution_count": 6,
     "metadata": {},
     "output_type": "execute_result"
    }
   ],
   "source": [
    "# For a single-input model with 2 classes (binary classification):\n",
    "\n",
    "model = Sequential()\n",
    "model.add(Dense(32, activation='relu', input_dim=100))\n",
    "model.add(Dense(1, activation='sigmoid'))\n",
    "model.compile(optimizer='sgd',\n",
    "              loss='binary_crossentropy',\n",
    "              metrics=['accuracy']) # Change to 'AUC' for ROC area under the curve\n",
    "\n",
    "# Generate dummy data\n",
    "import numpy as np\n",
    "data = np.random.random((1000, 100)) # X data\n",
    "labels = np.random.randint(2, size=(1000, 1)) # y data (binary labels: 0 or 1)\n",
    "\n",
    "# Split your data into training and validation sets using validation_split\n",
    "# Train the model, iterating on the data in batches of 32 samples\n",
    "model.fit(data, labels, validation_split=0.20, epochs=10, batch_size=32)\n",
    "\n",
    "#Note that you can also use train_test_split() with , validation_data=(X_test,y_test) argument from Keras in same manner.\n",
    "##Split data first and then simply train on training data and add test data to this argument.\n"
   ]
  },
  {
   "cell_type": "code",
   "execution_count": 7,
   "metadata": {
    "id": "A9rrVgbrAH9t"
   },
   "outputs": [
    {
     "name": "stderr",
     "output_type": "stream",
     "text": [
      "WARNING:absl:At this time, the v2.11+ optimizer `tf.keras.optimizers.SGD` runs slowly on M1/M2 Macs, please use the legacy Keras optimizer instead, located at `tf.keras.optimizers.legacy.SGD`.\n"
     ]
    },
    {
     "name": "stdout",
     "output_type": "stream",
     "text": [
      "Epoch 1/20\n",
      "8/8 [==============================] - 0s 505us/step - loss: 2.3715 - accuracy: 0.1090\n",
      "Epoch 2/20\n",
      "8/8 [==============================] - 0s 416us/step - loss: 2.3714 - accuracy: 0.1090\n",
      "Epoch 3/20\n",
      "8/8 [==============================] - 0s 508us/step - loss: 2.3713 - accuracy: 0.1090\n",
      "Epoch 4/20\n",
      "8/8 [==============================] - 0s 451us/step - loss: 2.3712 - accuracy: 0.1090\n",
      "Epoch 5/20\n",
      "8/8 [==============================] - 0s 436us/step - loss: 2.3711 - accuracy: 0.1090\n",
      "Epoch 6/20\n",
      "8/8 [==============================] - 0s 411us/step - loss: 2.3710 - accuracy: 0.1090\n",
      "Epoch 7/20\n",
      "8/8 [==============================] - 0s 391us/step - loss: 2.3709 - accuracy: 0.1090\n",
      "Epoch 8/20\n",
      "8/8 [==============================] - 0s 377us/step - loss: 2.3708 - accuracy: 0.1090\n",
      "Epoch 9/20\n",
      "8/8 [==============================] - 0s 399us/step - loss: 2.3707 - accuracy: 0.1090\n",
      "Epoch 10/20\n",
      "8/8 [==============================] - 0s 449us/step - loss: 2.3706 - accuracy: 0.1090\n",
      "Epoch 11/20\n",
      "8/8 [==============================] - 0s 404us/step - loss: 2.3705 - accuracy: 0.1090\n",
      "Epoch 12/20\n",
      "8/8 [==============================] - 0s 428us/step - loss: 2.3705 - accuracy: 0.1090\n",
      "Epoch 13/20\n",
      "8/8 [==============================] - 0s 462us/step - loss: 2.3704 - accuracy: 0.1090\n",
      "Epoch 14/20\n",
      "8/8 [==============================] - 0s 418us/step - loss: 2.3703 - accuracy: 0.1090\n",
      "Epoch 15/20\n",
      "8/8 [==============================] - 0s 411us/step - loss: 2.3702 - accuracy: 0.1090\n",
      "Epoch 16/20\n",
      "8/8 [==============================] - 0s 423us/step - loss: 2.3701 - accuracy: 0.1090\n",
      "Epoch 17/20\n",
      "8/8 [==============================] - 0s 474us/step - loss: 2.3700 - accuracy: 0.1090\n",
      "Epoch 18/20\n",
      "8/8 [==============================] - 0s 418us/step - loss: 2.3699 - accuracy: 0.1090\n",
      "Epoch 19/20\n",
      "8/8 [==============================] - 0s 410us/step - loss: 2.3698 - accuracy: 0.1090\n",
      "Epoch 20/20\n",
      "8/8 [==============================] - 0s 398us/step - loss: 2.3697 - accuracy: 0.1090\n",
      "1/1 [==============================] - 0s 32ms/step - loss: 2.2750 - accuracy: 0.1000\n",
      "[2.275019407272339, 0.10000000149011612]\n"
     ]
    }
   ],
   "source": [
    "from tensorflow import keras\n",
    "from tensorflow.keras.optimizers import SGD\n",
    "\n",
    "# For multiple categories you  need to one hot encode y using to_categorical()\n",
    "\n",
    "# Generate dummy data\n",
    "x_train = np.random.random((1000, 20))\n",
    "y_train = keras.utils.to_categorical(np.random.randint(10, size=(1000, 1)), num_classes=10)\n",
    "x_test = np.random.random((100, 20))\n",
    "y_test = keras.utils.to_categorical(np.random.randint(10, size=(100, 1)), num_classes=10)\n",
    "\n",
    "model = Sequential()\n",
    "# Dense(64) is a fully-connected layer with 64 hidden units.\n",
    "# in the first layer, you must specify the expected input data shape:\n",
    "# here, 20-dimensional vectors.\n",
    "model.add(Dense(32, activation='relu', input_dim=20))\n",
    "model.add(Dense(10, activation='softmax'))\n",
    "\n",
    "sgd = SGD(learning_rate=0.0001)  # define a learning rate for optimization\n",
    "\n",
    "model.compile(loss='categorical_crossentropy',\n",
    "              optimizer=sgd,\n",
    "              metrics=['accuracy'])\n",
    "\n",
    "model.fit(x_train, y_train,\n",
    "          epochs=20,\n",
    "          batch_size=128)\n",
    "score = model.evaluate(x_test, y_test, batch_size=128) # extract loss and accuracy from test data evaluation\n",
    "print(score) # Returns [test_loss, test_accuracy]"
   ]
  },
  {
   "cell_type": "code",
   "execution_count": 8,
   "metadata": {
    "id": "fxEI52VDAH9w"
   },
   "outputs": [
    {
     "name": "stdout",
     "output_type": "stream",
     "text": [
      "(100, 20)\n",
      "4/4 [==============================] - 0s 535us/step\n",
      "4/4 [==============================] - 0s 481us/step\n",
      "[6 5 5 5 6 6 9 6 7 6 5 6 5 5 6 6 9 7 6 5 5 6 6 5 7 5 6 6 6 5 6 6 5 6 6 6 6\n",
      " 5 6 6 6 7 6 6 6 6 5 5 5 5 6 5 6 5 6 6 6 5 5 5 6 5 5 5 0 9 6 6 2 6 6 6 6 6\n",
      " 6 5 5 5 6 5 5 5 9 9 6 5 6 5 5 5 6 6 5 6 5 6 5 5 9 5]\n"
     ]
    }
   ],
   "source": [
    "import numpy as np\n",
    "\n",
    "# Prediction from keras classification model\n",
    "print(x_test.shape)\n",
    "\n",
    "\n",
    "# for predicted probabilities\n",
    "ypreds = model.predict(x_test)\n",
    "#print(ypreds) #gives prediction of each category, largest is selected for predict_classes()\n",
    "\n",
    "\n",
    "# for predicted label index of one hot encoded y data columns\n",
    "# Can use this to return correct label from well ordered list of labels\n",
    "ypreds_classindex = np.argmax(model.predict(x_test), axis=-1)\n",
    "print(ypreds_classindex)\n"
   ]
  },
  {
   "cell_type": "code",
   "execution_count": 9,
   "metadata": {
    "id": "HH52oduKBPqJ"
   },
   "outputs": [
    {
     "name": "stdout",
     "output_type": "stream",
     "text": [
      "oranges\n"
     ]
    }
   ],
   "source": [
    "labels=[\"apples\",\"oranges\"]\n",
    "\n",
    "classindex = 1\n",
    "\n",
    "print(labels[classindex]) # Outputs oranges"
   ]
  },
  {
   "cell_type": "code",
   "execution_count": 10,
   "metadata": {
    "id": "ZrHFjTzAAH9z"
   },
   "outputs": [
    {
     "name": "stdout",
     "output_type": "stream",
     "text": [
      "6\n"
     ]
    }
   ],
   "source": [
    "# What is the index location of the column with the largest probability?\n",
    "print(ypreds[0].argmax())  # Gets the index of the column with the largest probability"
   ]
  },
  {
   "cell_type": "markdown",
   "metadata": {
    "id": "ZSq8BmngAH-C"
   },
   "source": [
    "## Now you try.  Can you fit a neural network model to the Iris dataset?  Run models that change the structure of the network (i.e.-hidden layers and activations).  Try to improve your validation accuracy as much as possible.\n",
    "\n",
    "Data can be imported via the following link:\n",
    "\n",
    "http://vincentarelbundock.github.io/Rdatasets/csv/datasets/iris.csv"
   ]
  },
  {
   "cell_type": "code",
   "execution_count": 11,
   "metadata": {
    "id": "tPGjX9vcAH-D"
   },
   "outputs": [
    {
     "data": {
      "text/html": [
       "<div>\n",
       "<style scoped>\n",
       "    .dataframe tbody tr th:only-of-type {\n",
       "        vertical-align: middle;\n",
       "    }\n",
       "\n",
       "    .dataframe tbody tr th {\n",
       "        vertical-align: top;\n",
       "    }\n",
       "\n",
       "    .dataframe thead th {\n",
       "        text-align: right;\n",
       "    }\n",
       "</style>\n",
       "<table border=\"1\" class=\"dataframe\">\n",
       "  <thead>\n",
       "    <tr style=\"text-align: right;\">\n",
       "      <th></th>\n",
       "      <th>setosa</th>\n",
       "      <th>versicolor</th>\n",
       "      <th>virginica</th>\n",
       "    </tr>\n",
       "  </thead>\n",
       "  <tbody>\n",
       "    <tr>\n",
       "      <th>0</th>\n",
       "      <td>1</td>\n",
       "      <td>0</td>\n",
       "      <td>0</td>\n",
       "    </tr>\n",
       "    <tr>\n",
       "      <th>1</th>\n",
       "      <td>1</td>\n",
       "      <td>0</td>\n",
       "      <td>0</td>\n",
       "    </tr>\n",
       "    <tr>\n",
       "      <th>2</th>\n",
       "      <td>1</td>\n",
       "      <td>0</td>\n",
       "      <td>0</td>\n",
       "    </tr>\n",
       "    <tr>\n",
       "      <th>3</th>\n",
       "      <td>1</td>\n",
       "      <td>0</td>\n",
       "      <td>0</td>\n",
       "    </tr>\n",
       "    <tr>\n",
       "      <th>4</th>\n",
       "      <td>1</td>\n",
       "      <td>0</td>\n",
       "      <td>0</td>\n",
       "    </tr>\n",
       "    <tr>\n",
       "      <th>...</th>\n",
       "      <td>...</td>\n",
       "      <td>...</td>\n",
       "      <td>...</td>\n",
       "    </tr>\n",
       "    <tr>\n",
       "      <th>145</th>\n",
       "      <td>0</td>\n",
       "      <td>0</td>\n",
       "      <td>1</td>\n",
       "    </tr>\n",
       "    <tr>\n",
       "      <th>146</th>\n",
       "      <td>0</td>\n",
       "      <td>0</td>\n",
       "      <td>1</td>\n",
       "    </tr>\n",
       "    <tr>\n",
       "      <th>147</th>\n",
       "      <td>0</td>\n",
       "      <td>0</td>\n",
       "      <td>1</td>\n",
       "    </tr>\n",
       "    <tr>\n",
       "      <th>148</th>\n",
       "      <td>0</td>\n",
       "      <td>0</td>\n",
       "      <td>1</td>\n",
       "    </tr>\n",
       "    <tr>\n",
       "      <th>149</th>\n",
       "      <td>0</td>\n",
       "      <td>0</td>\n",
       "      <td>1</td>\n",
       "    </tr>\n",
       "  </tbody>\n",
       "</table>\n",
       "<p>150 rows × 3 columns</p>\n",
       "</div>"
      ],
      "text/plain": [
       "     setosa  versicolor  virginica\n",
       "0         1           0          0\n",
       "1         1           0          0\n",
       "2         1           0          0\n",
       "3         1           0          0\n",
       "4         1           0          0\n",
       "..      ...         ...        ...\n",
       "145       0           0          1\n",
       "146       0           0          1\n",
       "147       0           0          1\n",
       "148       0           0          1\n",
       "149       0           0          1\n",
       "\n",
       "[150 rows x 3 columns]"
      ]
     },
     "metadata": {},
     "output_type": "display_data"
    },
    {
     "data": {
      "text/html": [
       "<div>\n",
       "<style scoped>\n",
       "    .dataframe tbody tr th:only-of-type {\n",
       "        vertical-align: middle;\n",
       "    }\n",
       "\n",
       "    .dataframe tbody tr th {\n",
       "        vertical-align: top;\n",
       "    }\n",
       "\n",
       "    .dataframe thead th {\n",
       "        text-align: right;\n",
       "    }\n",
       "</style>\n",
       "<table border=\"1\" class=\"dataframe\">\n",
       "  <thead>\n",
       "    <tr style=\"text-align: right;\">\n",
       "      <th></th>\n",
       "      <th>Sepal.Length</th>\n",
       "      <th>Sepal.Width</th>\n",
       "      <th>Petal.Length</th>\n",
       "      <th>Petal.Width</th>\n",
       "      <th>Species</th>\n",
       "    </tr>\n",
       "  </thead>\n",
       "  <tbody>\n",
       "    <tr>\n",
       "      <th>0</th>\n",
       "      <td>5.1</td>\n",
       "      <td>3.5</td>\n",
       "      <td>1.4</td>\n",
       "      <td>0.2</td>\n",
       "      <td>setosa</td>\n",
       "    </tr>\n",
       "    <tr>\n",
       "      <th>1</th>\n",
       "      <td>4.9</td>\n",
       "      <td>3.0</td>\n",
       "      <td>1.4</td>\n",
       "      <td>0.2</td>\n",
       "      <td>setosa</td>\n",
       "    </tr>\n",
       "    <tr>\n",
       "      <th>2</th>\n",
       "      <td>4.7</td>\n",
       "      <td>3.2</td>\n",
       "      <td>1.3</td>\n",
       "      <td>0.2</td>\n",
       "      <td>setosa</td>\n",
       "    </tr>\n",
       "    <tr>\n",
       "      <th>3</th>\n",
       "      <td>4.6</td>\n",
       "      <td>3.1</td>\n",
       "      <td>1.5</td>\n",
       "      <td>0.2</td>\n",
       "      <td>setosa</td>\n",
       "    </tr>\n",
       "    <tr>\n",
       "      <th>4</th>\n",
       "      <td>5.0</td>\n",
       "      <td>3.6</td>\n",
       "      <td>1.4</td>\n",
       "      <td>0.2</td>\n",
       "      <td>setosa</td>\n",
       "    </tr>\n",
       "  </tbody>\n",
       "</table>\n",
       "</div>"
      ],
      "text/plain": [
       "   Sepal.Length  Sepal.Width  Petal.Length  Petal.Width Species\n",
       "0           5.1          3.5           1.4          0.2  setosa\n",
       "1           4.9          3.0           1.4          0.2  setosa\n",
       "2           4.7          3.2           1.3          0.2  setosa\n",
       "3           4.6          3.1           1.5          0.2  setosa\n",
       "4           5.0          3.6           1.4          0.2  setosa"
      ]
     },
     "metadata": {},
     "output_type": "display_data"
    },
    {
     "data": {
      "text/html": [
       "<div>\n",
       "<style scoped>\n",
       "    .dataframe tbody tr th:only-of-type {\n",
       "        vertical-align: middle;\n",
       "    }\n",
       "\n",
       "    .dataframe tbody tr th {\n",
       "        vertical-align: top;\n",
       "    }\n",
       "\n",
       "    .dataframe thead th {\n",
       "        text-align: right;\n",
       "    }\n",
       "</style>\n",
       "<table border=\"1\" class=\"dataframe\">\n",
       "  <thead>\n",
       "    <tr style=\"text-align: right;\">\n",
       "      <th></th>\n",
       "      <th>Sepal.Length</th>\n",
       "      <th>Sepal.Width</th>\n",
       "      <th>Petal.Length</th>\n",
       "      <th>Petal.Width</th>\n",
       "    </tr>\n",
       "  </thead>\n",
       "  <tbody>\n",
       "    <tr>\n",
       "      <th>0</th>\n",
       "      <td>5.1</td>\n",
       "      <td>3.5</td>\n",
       "      <td>1.4</td>\n",
       "      <td>0.2</td>\n",
       "    </tr>\n",
       "    <tr>\n",
       "      <th>1</th>\n",
       "      <td>4.9</td>\n",
       "      <td>3.0</td>\n",
       "      <td>1.4</td>\n",
       "      <td>0.2</td>\n",
       "    </tr>\n",
       "    <tr>\n",
       "      <th>2</th>\n",
       "      <td>4.7</td>\n",
       "      <td>3.2</td>\n",
       "      <td>1.3</td>\n",
       "      <td>0.2</td>\n",
       "    </tr>\n",
       "    <tr>\n",
       "      <th>3</th>\n",
       "      <td>4.6</td>\n",
       "      <td>3.1</td>\n",
       "      <td>1.5</td>\n",
       "      <td>0.2</td>\n",
       "    </tr>\n",
       "    <tr>\n",
       "      <th>4</th>\n",
       "      <td>5.0</td>\n",
       "      <td>3.6</td>\n",
       "      <td>1.4</td>\n",
       "      <td>0.2</td>\n",
       "    </tr>\n",
       "  </tbody>\n",
       "</table>\n",
       "</div>"
      ],
      "text/plain": [
       "   Sepal.Length  Sepal.Width  Petal.Length  Petal.Width\n",
       "0           5.1          3.5           1.4          0.2\n",
       "1           4.9          3.0           1.4          0.2\n",
       "2           4.7          3.2           1.3          0.2\n",
       "3           4.6          3.1           1.5          0.2\n",
       "4           5.0          3.6           1.4          0.2"
      ]
     },
     "metadata": {},
     "output_type": "display_data"
    },
    {
     "data": {
      "text/plain": [
       "0          setosa\n",
       "10         setosa\n",
       "20         setosa\n",
       "30         setosa\n",
       "40         setosa\n",
       "50     versicolor\n",
       "60     versicolor\n",
       "70     versicolor\n",
       "80     versicolor\n",
       "90     versicolor\n",
       "100     virginica\n",
       "110     virginica\n",
       "120     virginica\n",
       "130     virginica\n",
       "140     virginica\n",
       "Name: Species, dtype: object"
      ]
     },
     "metadata": {},
     "output_type": "display_data"
    }
   ],
   "source": [
    "\n",
    "import pandas as pd\n",
    "\n",
    "data = pd.read_csv(\"http://vincentarelbundock.github.io/Rdatasets/csv/datasets/iris.csv\")\n",
    "\n",
    "\n",
    "#update data to set up for train test split\n",
    "data = data.iloc[:,1:]\n",
    "y = data['Species']\n",
    "X = data.loc[:, data.columns != 'Species']\n",
    "\n",
    "display(pd.get_dummies(y))\n",
    "display(data.head())\n",
    "display(X.head())\n",
    "display(y[0::10])\n",
    "\n"
   ]
  },
  {
   "cell_type": "code",
   "execution_count": null,
   "metadata": {
    "id": "J1CTpedHhDqr"
   },
   "outputs": [],
   "source": []
  }
 ],
 "metadata": {
  "colab": {
   "provenance": []
  },
  "kernelspec": {
   "display_name": "Python 3 (ipykernel)",
   "language": "python",
   "name": "python3"
  },
  "language_info": {
   "codemirror_mode": {
    "name": "ipython",
    "version": 3
   },
   "file_extension": ".py",
   "mimetype": "text/x-python",
   "name": "python",
   "nbconvert_exporter": "python",
   "pygments_lexer": "ipython3",
   "version": "3.11.4"
  }
 },
 "nbformat": 4,
 "nbformat_minor": 1
}
